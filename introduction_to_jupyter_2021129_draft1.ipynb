{
 "cells": [
  {
   "cell_type": "markdown",
   "metadata": {},
   "source": [
    "This is an example Jupyter Notebook for those who attended the \"Publishing your data analysis story with Jupyter Notebook\" taught by the Bioinformatics Education and Training Program (BTEP) at NIH."
   ]
  },
  {
   "cell_type": "markdown",
   "metadata": {},
   "source": [
    "[Here is a list of common Jupyter Notebook shortcuts](https://gist.github.com/discdiver/9e00618756d120a8c9fa344ac1c375ac)"
   ]
  },
  {
   "cell_type": "markdown",
   "metadata": {},
   "source": []
  },
  {
   "cell_type": "code",
   "execution_count": null,
   "metadata": {},
   "outputs": [],
   "source": [
    "#import os\n",
    "#os.chdir('/Users/wuz8/Documents/introduction_jupyter_notebook_2021129')"
   ]
  },
  {
   "cell_type": "code",
   "execution_count": 2,
   "metadata": {},
   "outputs": [],
   "source": [
    "%%capture\n",
    "import pandas as pd\n",
    "cov_md=pd.read_csv(\"time_series_covid19_confirmed_maryland_1_sort1.csv\")\n",
    "cov_md.head()"
   ]
  },
  {
   "cell_type": "code",
   "execution_count": 3,
   "metadata": {},
   "outputs": [],
   "source": [
    "%%capture\n",
    "cov_md.rename({'X10.30.21':'oct-30-2021'},inplace=True,axis='columns')\n",
    "cov_md.rename({'X10.31.21':'oct-31-2021'},inplace=True,axis='columns')\n",
    "cov_md.rename({'X11.1.21':'nov-1-2021'},inplace=True,axis='columns')\n",
    "cov_md.rename({'X11.2.21':'nov-2-2021'},inplace=True,axis='columns')\n",
    "cov_md.rename({'X11.3.21':'nov-3-2021'},inplace=True,axis='columns')\n",
    "cov_md.head()"
   ]
  },
  {
   "cell_type": "code",
   "execution_count": 4,
   "metadata": {},
   "outputs": [],
   "source": [
    "import ipywidgets as widgets"
   ]
  },
  {
   "cell_type": "markdown",
   "metadata": {},
   "source": [
    "Use the drop down menu and radio button menu below to view covid cases for a particular Maryland county on a given day."
   ]
  },
  {
   "cell_type": "code",
   "execution_count": 5,
   "metadata": {},
   "outputs": [
    {
     "data": {
      "application/vnd.jupyter.widget-view+json": {
       "model_id": "fd332094f97a4402b17bd3756dec3ff9",
       "version_major": 2,
       "version_minor": 0
      },
      "text/plain": [
       "Dropdown(description='Maryland county', options=(\"Prince George's\", 'Montgomery', 'Baltimore', 'Baltimore City…"
      ]
     },
     "metadata": {},
     "output_type": "display_data"
    }
   ],
   "source": [
    "maryland_county=widgets.Dropdown(\n",
    "    options=cov_md.County,\n",
    "    value=cov_md.County[0],\n",
    "    description='Maryland county',\n",
    "    disabled=False)\n",
    "display(maryland_county)\n"
   ]
  },
  {
   "cell_type": "code",
   "execution_count": 6,
   "metadata": {},
   "outputs": [
    {
     "data": {
      "application/vnd.jupyter.widget-view+json": {
       "model_id": "c534c8d5eca04ec39729656df1667a95",
       "version_major": 2,
       "version_minor": 0
      },
      "text/plain": [
       "RadioButtons(description='Maryland case report date', options=('oct-30-2021', 'oct-31-2021', 'nov-1-2021', 'no…"
      ]
     },
     "metadata": {},
     "output_type": "display_data"
    }
   ],
   "source": [
    "maryland_cov_report_date=widgets.RadioButtons(\n",
    "    options=[\"oct-30-2021\", \"oct-31-2021\", \"nov-1-2021\", \"nov-2-2021\", \"nov-3-2021\"],\n",
    "    description='Maryland case report date',\n",
    "    disabled=False)\n",
    "display(maryland_cov_report_date)"
   ]
  },
  {
   "cell_type": "code",
   "execution_count": 7,
   "metadata": {},
   "outputs": [
    {
     "data": {
      "application/vnd.jupyter.widget-view+json": {
       "model_id": "08230ecd1a7444abbf0fa32685c737d8",
       "version_major": 2,
       "version_minor": 0
      },
      "text/plain": [
       "Output()"
      ]
     },
     "metadata": {},
     "output_type": "display_data"
    }
   ],
   "source": [
    "report_output = widgets.Output()\n",
    "display(report_output)"
   ]
  },
  {
   "cell_type": "code",
   "execution_count": 8,
   "metadata": {},
   "outputs": [],
   "source": [
    "%%capture\n",
    "from ipywidgets import interactive\n",
    "def filter_function(county,cov_md_report_date):\n",
    "    filtered=cov_md.loc[cov_md['County'] == county].loc[:,cov_md_report_date]  \n",
    "    with report_output:        \n",
    "        report_output.clear_output()\n",
    "        cov_cases=('there were '+filtered.to_string(index=False)+' covid cases reported in '+county+' on '+cov_md_report_date)      \n",
    "        display(cov_cases)\n",
    "         \n",
    "interactive(filter_function, county=maryland_county, cov_md_report_date=maryland_cov_report_date)"
   ]
  },
  {
   "cell_type": "code",
   "execution_count": 9,
   "metadata": {},
   "outputs": [],
   "source": [
    "%%capture\n",
    "cov_md.loc[cov_md['County']==\"Baltimore\",'nov-3-2021']"
   ]
  },
  {
   "cell_type": "code",
   "execution_count": 7,
   "metadata": {},
   "outputs": [],
   "source": [
    "%load_ext rpy2.ipython"
   ]
  },
  {
   "cell_type": "code",
   "execution_count": 12,
   "metadata": {},
   "outputs": [],
   "source": [
    "%%capture\n",
    "%%R\n",
    "version"
   ]
  },
  {
   "cell_type": "code",
   "execution_count": 61,
   "metadata": {},
   "outputs": [
    {
     "name": "stdout",
     "output_type": "stream",
     "text": [
      "[array([10, 15,  5,  8,  9]), array([10, 15,  5,  8,  9])]\n"
     ]
    }
   ],
   "source": [
    "import numpy as np\n",
    "import matplotlib.pyplot as plt\n",
    "a1=np.array([0,1,2,3,4,5])\n",
    "a2=np.array([0,3,6,9,12,15])\n",
    "a3=np.array([150,200,75,80,195])\n",
    "a4=np.array([10,15,5,8,9])\n",
    "a5=np.array([\"a\",\"b\",\"c\",\"d\",\"e\"])\n",
    "error_1=np.array(a3-a4)\n",
    "error_2=np.array(a3+a4)\n",
    "error_3=[a4,a4]"
   ]
  },
  {
   "cell_type": "code",
   "execution_count": 62,
   "metadata": {},
   "outputs": [
    {
     "data": {
      "text/plain": [
       "Text(0.5, 1.0, 'gene counts')"
      ]
     },
     "execution_count": 62,
     "metadata": {},
     "output_type": "execute_result"
    },
    {
     "data": {
      "image/png": "[encoded data removed]",
      "text/plain": [
       "<Figure size 432x288 with 1 Axes>"
      ]
     },
     "metadata": {
      "needs_background": "light"
     },
     "output_type": "display_data"
    }
   ],
   "source": [
    "plt.bar(a5,a3, yerr=error_3)\n",
    "plt.ylabel('gene counts')\n",
    "plt.xlabel('genes')\n",
    "plt.title('gene counts')"
   ]
  },
  {
   "cell_type": "code",
   "execution_count": null,
   "metadata": {},
   "outputs": [],
   "source": [
    "%%R\n",
    "install.packages('ggplot2')"
   ]
  },
  {
   "cell_type": "code",
   "execution_count": 22,
   "metadata": {},
   "outputs": [
    {
     "name": "stdout",
     "output_type": "stream",
     "text": [
      "  x5  x3 x4\n",
      "1  a 150 10\n",
      "2  b 200 15\n",
      "3  c  75  5\n",
      "4  d  80  8\n",
      "5  e 195  9\n"
     ]
    }
   ],
   "source": [
    "%%R\n",
    "b1 <- c(0,1,2,3,4,5)\n",
    "b2 <- c(0,3,6,9,12,15)\n",
    "b3 <- c(150,200,75,80,195)\n",
    "b4 <- c(10,15,5,8,9)\n",
    "b5 <- c(\"a\",\"b\",\"c\",\"d\",\"e\")\n",
    "b6 <- data.frame(x5,x3,x4)"
   ]
  },
  {
   "cell_type": "code",
   "execution_count": 27,
   "metadata": {},
   "outputs": [
    {
     "data": {
      "image/png": "[encoded data removed]"
     },
     "metadata": {},
     "output_type": "display_data"
    }
   ],
   "source": [
    "%%R\n",
    "library(ggplot2)\n",
    "gene_count_plot <- ggplot(gene_count,aes(y=x3,x=x5))+geom_bar(stat=\"identity\", fill=\"blue\")\n",
    "gene_count_plot <- gene_count_plot+geom_errorbar(aes(x=x5,ymin=x3-x4,ymax=x3+x4),width=0.25)\n",
    "plot(gene_count_plot)"
   ]
  },
  {
   "cell_type": "code",
   "execution_count": 39,
   "metadata": {},
   "outputs": [
    {
     "name": "stdout",
     "output_type": "stream",
     "text": [
      "[array([0.048, 0.088, 0.128, 0.168, 0.208, 0.248, 0.288, 0.328]), array([0.12, 0.22, 0.32, 0.42, 0.52, 0.62, 0.72, 0.82])]\n"
     ]
    },
    {
     "data": {
      "image/png": "[encoded data removed]",
      "text/plain": [
       "<Figure size 432x288 with 2 Axes>"
      ]
     },
     "metadata": {
      "needs_background": "light"
     },
     "output_type": "display_data"
    }
   ],
   "source": [
    "# example data\n",
    "x = np.arange(0.1, 4, 0.5)\n",
    "y = np.exp(-x)\n",
    "\n",
    "# example error bar values that vary with x-position\n",
    "error = 0.1 + 0.2 * x\n",
    "\n",
    "fig, (ax0, ax1) = plt.subplots(nrows=2, sharex=True)\n",
    "ax0.errorbar(x, y, yerr=error, fmt='-o')\n",
    "ax0.set_title('variable, symmetric error')\n",
    "\n",
    "# error bar values w/ different -/+ errors that\n",
    "# also vary with the x-position\n",
    "lower_error = 0.4 * error\n",
    "upper_error = error\n",
    "asymmetric_error = [lower_error, upper_error]\n",
    "print(asymmetric_error)\n",
    "\n",
    "ax1.errorbar(x, y, xerr=asymmetric_error, fmt='o')\n",
    "ax1.set_title('variable, asymmetric error')\n",
    "ax1.set_yscale('log')\n",
    "plt.show()"
   ]
  },
  {
   "cell_type": "markdown",
   "metadata": {},
   "source": [
    "*this is a jupyter notebook*\n",
    "\n",
    "**this is a jupyter notebook**\n",
    "\n",
    "***this is a jupyter notebook***\n",
    "\n",
    "### this is a jupyter notebook\n",
    "\n",
    "<p><i>jupyter notebook is cool</i></p>\n",
    "<p><b>jupyter notebook is cool</b></p>\n",
    "\n",
    "$$ E=\\ {MC^2} \\ equation\\ 1 $$\n",
    "\n",
    "### jupyter notebook\n",
    "    1. allows for documentation of analyses\n",
    "    2. sharing of analyses\n",
    "    3. facilitates reproducible analysis"
   ]
  }
 ],
 "metadata": {
  "interpreter": {
   "hash": "9cea0b2ba1d4e863dfb586909f3baf8988d507bc1f42173fc816b8e84176b62f"
  },
  "kernelspec": {
   "display_name": "Python 3 (ipykernel)",
   "language": "python",
   "name": "python3"
  },
  "language_info": {
   "codemirror_mode": {
    "name": "ipython",
    "version": 3
   },
   "file_extension": ".py",
   "mimetype": "text/x-python",
   "name": "python",
   "nbconvert_exporter": "python",
   "pygments_lexer": "ipython3",
   "version": "3.9.5"
  },
  "toc": {
   "base_numbering": 1,
   "nav_menu": {},
   "number_sections": false,
   "sideBar": false,
   "skip_h1_title": false,
   "title_cell": "Table of Contents",
   "title_sidebar": "Contents",
   "toc_cell": false,
   "toc_position": {},
   "toc_section_display": false,
   "toc_window_display": false
  }
 },
 "nbformat": 4,
 "nbformat_minor": 4
}
